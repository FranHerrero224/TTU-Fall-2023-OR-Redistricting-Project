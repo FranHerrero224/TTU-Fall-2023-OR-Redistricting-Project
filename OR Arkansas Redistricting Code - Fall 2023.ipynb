{
 "cells": [
  {
   "cell_type": "markdown",
   "id": "48d92afa",
   "metadata": {},
   "source": [
    "# Operations Research Final Project code\n",
    "\n",
    "By Francisco Herrero & Maria Paula Cedeño\n",
    "\n",
    "# Congressional Redistricting in Arkansas in 2020"
   ]
  },
  {
   "cell_type": "code",
   "execution_count": 2,
   "id": "05bc4b5c",
   "metadata": {},
   "outputs": [],
   "source": [
    "#Import the necessary packages\n",
    "\n",
    "import gurobipy as gp\n",
    "from gurobipy import GRB\n",
    "\n",
    "import json\n",
    "from networkx.readwrite import json_graph\n",
    "\n",
    "def read_graph_from_json(json_file):\n",
    "    with open(json_file) as f:\n",
    "        data = json.load(f)\n",
    "    return json_graph.adjacency_graph(data) \n",
    "\n",
    "#Set filepath and read data\n",
    "\n",
    "filepath = 'C:/Users/franc/OneDrive/Desktop/Work/Fall 2023/Deterministic Operations Research/Project/Data Sets/AR_county.json'\n",
    "\n",
    "G = read_graph_from_json(filepath)"
   ]
  },
  {
   "cell_type": "code",
   "execution_count": 3,
   "id": "22493ae5",
   "metadata": {},
   "outputs": [
    {
     "name": "stdout",
     "output_type": "stream",
     "text": [
      "Node 0 corresponds to the county Franklin which had a population of 17097 in 2020\n",
      "Node 1 corresponds to the county Crawford which had a population of 60133 in 2020\n",
      "Node 2 corresponds to the county Jackson which had a population of 16755 in 2020\n",
      "Node 3 corresponds to the county Clay which had a population of 14552 in 2020\n",
      "Node 4 corresponds to the county Faulkner which had a population of 123498 in 2020\n",
      "Node 5 corresponds to the county Baxter which had a population of 41627 in 2020\n",
      "Node 6 corresponds to the county Little River which had a population of 12026 in 2020\n",
      "Node 7 corresponds to the county Boone which had a population of 37373 in 2020\n",
      "Node 8 corresponds to the county Ashley which had a population of 19062 in 2020\n",
      "Node 9 corresponds to the county Desha which had a population of 11395 in 2020\n",
      "Node 10 corresponds to the county St. Francis which had a population of 23090 in 2020\n",
      "Node 11 corresponds to the county Montgomery which had a population of 8484 in 2020\n",
      "Node 12 corresponds to the county Sharp which had a population of 17271 in 2020\n",
      "Node 13 corresponds to the county Greene which had a population of 45736 in 2020\n",
      "Node 14 corresponds to the county Woodruff which had a population of 6269 in 2020\n",
      "Node 15 corresponds to the county White which had a population of 76822 in 2020\n",
      "Node 16 corresponds to the county Lee which had a population of 8600 in 2020\n",
      "Node 17 corresponds to the county Conway which had a population of 20715 in 2020\n",
      "Node 18 corresponds to the county Howard which had a population of 12785 in 2020\n",
      "Node 19 corresponds to the county Nevada which had a population of 8310 in 2020\n",
      "Node 20 corresponds to the county Pulaski which had a population of 399125 in 2020\n",
      "Node 21 corresponds to the county Grant which had a population of 17958 in 2020\n",
      "Node 22 corresponds to the county Benton which had a population of 284333 in 2020\n",
      "Node 23 corresponds to the county Madison which had a population of 16521 in 2020\n",
      "Node 24 corresponds to the county Dallas which had a population of 6482 in 2020\n",
      "Node 25 corresponds to the county Cleveland which had a population of 7550 in 2020\n",
      "Node 26 corresponds to the county Crittenden which had a population of 48163 in 2020\n",
      "Node 27 corresponds to the county Lafayette which had a population of 6308 in 2020\n",
      "Node 28 corresponds to the county Saline which had a population of 123416 in 2020\n",
      "Node 29 corresponds to the county Chicot which had a population of 10208 in 2020\n",
      "Node 30 corresponds to the county Pope which had a population of 63381 in 2020\n",
      "Node 31 corresponds to the county Marion which had a population of 16826 in 2020\n",
      "Node 32 corresponds to the county Prairie which had a population of 8282 in 2020\n",
      "Node 33 corresponds to the county Bradley which had a population of 10545 in 2020\n",
      "Node 34 corresponds to the county Drew which had a population of 17350 in 2020\n",
      "Node 35 corresponds to the county Pike which had a population of 10171 in 2020\n",
      "Node 36 corresponds to the county Union which had a population of 39054 in 2020\n",
      "Node 37 corresponds to the county Sebastian which had a population of 127799 in 2020\n",
      "Node 38 corresponds to the county Lawrence which had a population of 16216 in 2020\n",
      "Node 39 corresponds to the county Poinsett which had a population of 22965 in 2020\n",
      "Node 40 corresponds to the county Hempstead which had a population of 20065 in 2020\n",
      "Node 41 corresponds to the county Stone which had a population of 12359 in 2020\n",
      "Node 42 corresponds to the county Polk which had a population of 19221 in 2020\n",
      "Node 43 corresponds to the county Independence which had a population of 37938 in 2020\n",
      "Node 44 corresponds to the county Lonoke which had a population of 74015 in 2020\n",
      "Node 45 corresponds to the county Clark which had a population of 21446 in 2020\n",
      "Node 46 corresponds to the county Fulton which had a population of 12075 in 2020\n",
      "Node 47 corresponds to the county Logan which had a population of 21131 in 2020\n",
      "Node 48 corresponds to the county Miller which had a population of 42600 in 2020\n",
      "Node 49 corresponds to the county Arkansas which had a population of 17149 in 2020\n",
      "Node 50 corresponds to the county Carroll which had a population of 28260 in 2020\n",
      "Node 51 corresponds to the county Van Buren which had a population of 15796 in 2020\n",
      "Node 52 corresponds to the county Johnson which had a population of 25749 in 2020\n",
      "Node 53 corresponds to the county Searcy which had a population of 7828 in 2020\n",
      "Node 54 corresponds to the county Garland which had a population of 100180 in 2020\n",
      "Node 55 corresponds to the county Sevier which had a population of 15839 in 2020\n",
      "Node 56 corresponds to the county Jefferson which had a population of 67260 in 2020\n",
      "Node 57 corresponds to the county Lincoln which had a population of 12941 in 2020\n",
      "Node 58 corresponds to the county Randolph which had a population of 18571 in 2020\n",
      "Node 59 corresponds to the county Izard which had a population of 13577 in 2020\n",
      "Node 60 corresponds to the county Scott which had a population of 9836 in 2020\n",
      "Node 61 corresponds to the county Perry which had a population of 10019 in 2020\n",
      "Node 62 corresponds to the county Craighead which had a population of 111231 in 2020\n",
      "Node 63 corresponds to the county Cleburne which had a population of 24711 in 2020\n",
      "Node 64 corresponds to the county Hot Spring which had a population of 33040 in 2020\n",
      "Node 65 corresponds to the county Columbia which had a population of 22801 in 2020\n",
      "Node 66 corresponds to the county Ouachita which had a population of 22650 in 2020\n",
      "Node 67 corresponds to the county Yell which had a population of 20263 in 2020\n",
      "Node 68 corresponds to the county Monroe which had a population of 6799 in 2020\n",
      "Node 69 corresponds to the county Mississippi which had a population of 40685 in 2020\n",
      "Node 70 corresponds to the county Washington which had a population of 245871 in 2020\n",
      "Node 71 corresponds to the county Newton which had a population of 7225 in 2020\n",
      "Node 72 corresponds to the county Calhoun which had a population of 4739 in 2020\n",
      "Node 73 corresponds to the county Cross which had a population of 16833 in 2020\n",
      "Node 74 corresponds to the county Phillips which had a population of 16568 in 2020\n"
     ]
    }
   ],
   "source": [
    "#Assign each node in G to the population of their respective county\n",
    "\n",
    "for node in G.nodes:\n",
    "    G.nodes[node]['TOTPOP'] = G.nodes[node]['P0010001']\n",
    "    \n",
    "#Print each node\n",
    "    \n",
    "for node in G.nodes:\n",
    "    county_name = G.nodes[node]['NAME20']\n",
    "    county_population = G.nodes[node]['TOTPOP']\n",
    "    print(\"Node\",node,\"corresponds to the county\",county_name,\"which had a population of\",county_population,\"in 2020\")"
   ]
  },
  {
   "cell_type": "markdown",
   "id": "22be9edd",
   "metadata": {},
   "source": [
    "According to congressional law, population deviation must not exceed 1% In other words, the difference in population between the largest and smallest district must not exceed 1%\n",
    "\n",
    "From data, \n",
    "\n",
    "Total population: 3011524\n",
    "\n",
    "Ideal population per district: 752881\n",
    "    \n",
    "Desired districts: 4\n",
    "    \n",
    "Highest acceptable population = 1.005 x 752,881 = 756,645. \n",
    "    \n",
    "Lowest acceptable population = 0.995 x 752,881 = 749,116. "
   ]
  },
  {
   "cell_type": "code",
   "execution_count": 4,
   "id": "ca3293a6",
   "metadata": {},
   "outputs": [],
   "source": [
    "k = 4\n",
    "\n",
    "L = 749116\n",
    "U = 756645"
   ]
  },
  {
   "cell_type": "code",
   "execution_count": 5,
   "id": "66f63709",
   "metadata": {},
   "outputs": [
    {
     "name": "stdout",
     "output_type": "stream",
     "text": [
      "Set parameter Username\n",
      "Academic license - for non-commercial use only - expires 2024-09-10\n"
     ]
    }
   ],
   "source": [
    "#Create the model\n",
    "\n",
    "m = gp.Model()\n",
    "\n",
    "# Decision Variables\n",
    "\n",
    "x = m.addVars(G.nodes, k, vtype = GRB.BINARY) #x[i,j] equals 1 when county i is assigned to district j, 0 otherwise\n",
    "y = m.addVars(G.edges, vtype = GRB.BINARY) #y[u,v] equals 1 when edge {u,v} is cut"
   ]
  },
  {
   "cell_type": "code",
   "execution_count": 6,
   "id": "15e1028e",
   "metadata": {},
   "outputs": [],
   "source": [
    "#Create objective function to minimize cut edges (compactness)\n",
    "\n",
    "m.setObjective(gp.quicksum(y), GRB.MINIMIZE)"
   ]
  },
  {
   "cell_type": "code",
   "execution_count": 7,
   "id": "84e7c116",
   "metadata": {},
   "outputs": [
    {
     "name": "stdout",
     "output_type": "stream",
     "text": [
      "Gurobi Optimizer version 10.0.2 build v10.0.2rc0 (win64)\n",
      "\n",
      "CPU model: Intel(R) Core(TM) i7-7700HQ CPU @ 2.80GHz, instruction set [SSE2|AVX|AVX2]\n",
      "Thread count: 4 physical cores, 8 logical processors, using up to 8 threads\n",
      "\n",
      "Optimize a model with 851 rows, 492 columns and 3204 nonzeros\n",
      "Model fingerprint: 0x26d8c597\n",
      "Variable types: 0 continuous, 492 integer (492 binary)\n",
      "Coefficient statistics:\n",
      "  Matrix range     [1e+00, 4e+05]\n",
      "  Objective range  [1e+00, 1e+00]\n",
      "  Bounds range     [1e+00, 1e+00]\n",
      "  RHS range        [1e+00, 8e+05]\n",
      "Presolve time: 0.01s\n",
      "Presolved: 851 rows, 492 columns, 3204 nonzeros\n",
      "Variable types: 0 continuous, 492 integer (492 binary)\n",
      "Found heuristic solution: objective 121.0000000\n",
      "Found heuristic solution: objective 114.0000000\n",
      "\n",
      "Root relaxation: objective 0.000000e+00, 459 iterations, 0.02 seconds (0.01 work units)\n",
      "\n",
      "    Nodes    |    Current Node    |     Objective Bounds      |     Work\n",
      " Expl Unexpl |  Obj  Depth IntInf | Incumbent    BestBd   Gap | It/Node Time\n",
      "\n",
      "     0     0    0.00000    0  300  114.00000    0.00000   100%     -    0s\n",
      "H    0     0                      95.0000000    0.00000   100%     -    0s\n",
      "     0     0    0.76468    0  304   95.00000    0.76468  99.2%     -    0s\n",
      "H    0     0                      66.0000000    0.76468  98.8%     -    0s\n",
      "     0     0    4.13647    0  320   66.00000    4.13647  93.7%     -    0s\n",
      "     0     0    4.14217    0  320   66.00000    4.14217  93.7%     -    0s\n",
      "     0     0    4.14224    0  320   66.00000    4.14224  93.7%     -    0s\n",
      "     0     0    4.38381    0  304   66.00000    4.38381  93.4%     -    0s\n",
      "     0     0    4.60464    0  307   66.00000    4.60464  93.0%     -    0s\n",
      "     0     0    4.60464    0  307   66.00000    4.60464  93.0%     -    0s\n",
      "     0     0    4.60464    0  312   66.00000    4.60464  93.0%     -    0s\n",
      "     0     0    4.64939    0  306   66.00000    4.64939  93.0%     -    0s\n",
      "     0     0    4.65195    0  311   66.00000    4.65195  93.0%     -    0s\n",
      "     0     0    4.65195    0  315   66.00000    4.65195  93.0%     -    0s\n",
      "     0     0    4.65195    0  311   66.00000    4.65195  93.0%     -    0s\n",
      "     0     0    5.33333    0  316   66.00000    5.33333  91.9%     -    1s\n",
      "     0     0    5.33333    0  316   66.00000    5.33333  91.9%     -    1s\n",
      "     0     2    5.33333    0  316   66.00000    5.33333  91.9%     -    1s\n",
      "H  158   169                      64.0000000   10.00943  84.4%   160    2s\n",
      "H  176   174                      57.0000000   11.39273  80.0%   154    2s\n",
      "H  241   236                      53.0000000   11.39273  78.5%   142    3s\n",
      "H  288   228                      49.0000000   11.39273  76.7%   139    3s\n",
      "H  326   248                      45.0000000   11.39273  74.7%   143    3s\n",
      "H  428   280                      44.0000000   11.39273  74.1%   141    4s\n",
      "H  460   260                      38.0000000   11.39273  70.0%   141    4s\n",
      "   541   322   28.46307   25  192   38.00000   11.70666  69.2%   142    5s\n",
      "H  619   355                      36.0000000   12.58921  65.0%   143    5s\n",
      "H  675   340                      34.0000000   12.58921  63.0%   138    6s\n",
      "  1337   701   25.26307   29  264   34.00000   15.55092  54.3%   134   10s\n",
      "H 1381   688                      33.0000000   15.55092  52.9%   134   10s\n",
      "  3049  1432   30.29018   25  227   33.00000   18.49756  43.9%   117   15s\n",
      "  5602  2895   27.83443   21  258   33.00000   20.54147  37.8%   104   20s\n",
      "  7666  4141   31.02633   23  295   33.00000   21.16529  35.9%   102   25s\n",
      " 10166  5221   30.50412   29  226   33.00000   21.75090  34.1%  97.7   30s\n",
      " 13698  6878   31.95390   43  158   33.00000   22.53908  31.7%  95.3   35s\n",
      " 14972  8398   28.22255   32  166   33.00000   22.68098  31.3%  94.4   43s\n",
      " 18367  8951   31.37838   32  193   33.00000   23.09972  30.0%  92.4   45s\n",
      " 22348 10544   25.38488   24  304   33.00000   23.46308  28.9%  90.2   50s\n",
      " 26426 12102   31.90662   33  249   33.00000   23.82134  27.8%  88.6   56s\n",
      " 29746 13427     cutoff   27        33.00000   24.02709  27.2%  87.6   73s\n",
      " 31392 13781   27.47327   24  304   33.00000   24.19064  26.7%  87.3   75s\n",
      " 34398 14423   31.54277   41  189   33.00000   24.37381  26.1%  87.6   80s\n",
      " 37340 15200     cutoff   28        33.00000   24.55166  25.6%  88.1   85s\n",
      " 39577 15780   29.21811   24  217   33.00000   24.68553  25.2%  88.5   90s\n",
      " 42677 16370   30.97008   29  238   33.00000   24.88479  24.6%  88.7   95s\n",
      " 45662 16996   31.05959   31  198   33.00000   25.05642  24.1%  89.3  101s\n",
      " 48312 17451   28.16430   27  287   33.00000   25.21491  23.6%  89.5  106s\n",
      " 50810 17946   30.62077   27  258   33.00000   25.34165  23.2%  89.7  110s\n",
      " 54082 18625   30.04311   30  311   33.00000   25.52567  22.6%  89.9  116s\n",
      " 56705 19012   30.68210   30  262   33.00000   25.64740  22.3%  89.9  120s\n",
      " 59290 19360   30.82360   22  297   33.00000   25.75736  21.9%  89.9  125s\n",
      " 62551 19793   28.53358   28  300   33.00000   25.89572  21.5%  89.9  130s\n",
      " 65005 20138   29.89495   27  338   33.00000   26.00425  21.2%  90.0  135s\n",
      " 68182 20555   30.90063   30  312   33.00000   26.17014  20.7%  90.2  140s\n",
      " 71319 20910   31.84498   28  268   33.00000   26.32870  20.2%  90.2  146s\n",
      " 73761 21215   28.25935   25  329   33.00000   26.43226  19.9%  90.2  151s\n",
      " 76138 21415     cutoff   28        33.00000   26.53369  19.6%  90.3  155s\n",
      " 79495 21745     cutoff   23        33.00000   26.67901  19.2%  90.3  160s\n",
      " 81806 21965     cutoff   28        33.00000   26.77688  18.9%  90.4  165s\n",
      " 84316 22191     cutoff   38        33.00000   26.86652  18.6%  90.5  170s\n",
      " 87456 22488     cutoff   30        33.00000   26.98284  18.2%  90.6  175s\n",
      " 90701 22755   30.71233   30  244   33.00000   27.12415  17.8%  90.7  181s\n",
      " 93055 22942   30.93769   24  308   33.00000   27.21633  17.5%  90.7  186s\n",
      " 95537 23073   31.54796   26  294   33.00000   27.30529  17.3%  90.8  190s\n",
      " 98757 23206   30.68352   26  268   33.00000   27.42630  16.9%  90.9  195s\n",
      " 101228 23275   30.31881   25  257   33.00000   27.52756  16.6%  90.9  201s\n",
      " 103421 23324   30.94057   29  305   33.00000   27.60559  16.3%  90.9  205s\n",
      " 106260 23386   30.80363   29  278   33.00000   27.69255  16.1%  91.0  210s\n",
      " 108830 23399   28.23832   28  257   33.00000   27.78586  15.8%  91.0  215s\n",
      " 112010 23425   30.37605   31  296   33.00000   27.90192  15.4%  91.1  221s\n",
      " 114541 23434   31.23563   18  298   33.00000   27.98638  15.2%  91.2  225s\n",
      " 117792 23395     cutoff   29        33.00000   28.08274  14.9%  91.2  231s\n",
      " 120353 23333     cutoff   26        33.00000   28.16005  14.7%  91.2  236s\n",
      " 123584 23213   31.45750   28  308   33.00000   28.26358  14.4%  91.2  241s\n",
      " 125945 23115     cutoff   27        33.00000   28.33384  14.1%  91.3  245s\n",
      " 128260 22976   30.36900   24  234   33.00000   28.40808  13.9%  91.3  250s\n",
      " 131540 22817   31.93878   38  212   33.00000   28.49474  13.7%  91.2  256s\n",
      " 134007 22619     cutoff   27        33.00000   28.56512  13.4%  91.2  260s\n",
      " 136551 22504     cutoff   28        33.00000   28.63570  13.2%  91.2  265s\n",
      " 138961 22319   30.80730   35  132   33.00000   28.70410  13.0%  91.2  270s\n",
      " 142409 22058   30.28254   24  252   33.00000   28.79664  12.7%  91.1  275s\n",
      " 144869 21866     cutoff   33        33.00000   28.86748  12.5%  91.1  280s\n",
      " 148226 21512   31.37961   31  242   33.00000   28.94889  12.3%  91.1  285s\n",
      " 151540 21164   31.11713   28  206   33.00000   29.03785  12.0%  91.0  290s\n",
      " 154044 20860   31.07567   28  297   33.00000   29.10483  11.8%  90.9  296s\n",
      " 156291 20499   30.56809   30  198   33.00000   29.17743  11.6%  90.9  300s\n",
      " 159538 20063   31.28051   35  200   33.00000   29.27132  11.3%  90.9  305s\n",
      " 161948 19715   31.42258   30  303   33.00000   29.32977  11.1%  90.8  310s\n",
      " 164485 19296   31.92843   26  301   33.00000   29.40000  10.9%  90.8  315s\n",
      " 167841 18721   31.69934   35  234   33.00000   29.49043  10.6%  90.7  320s\n",
      " 171087 18058     cutoff   31        33.00000   29.57890  10.4%  90.6  326s\n",
      " 173634 17530   30.79865   27  291   33.00000   29.64613  10.2%  90.5  330s\n",
      " 176992 16763   31.36057   25  302   33.00000   29.74003  9.88%  90.4  335s\n",
      " 180229 15944     cutoff   30        33.00000   29.83531  9.59%  90.3  340s\n",
      " 182802 15232     cutoff   29        33.00000   29.90733  9.37%  90.2  345s\n",
      " 186032 14304     cutoff   24        33.00000   29.99315  9.11%  90.0  350s\n",
      " 189448 13248   31.56077   29  252   33.00000   30.09282  8.81%  89.9  355s\n",
      " 192883 12140   31.66096   37  269   33.00000   30.20203  8.48%  89.7  361s\n",
      " 195266 11185     cutoff   33        33.00000   30.27632  8.25%  89.6  365s\n",
      " 199564  9645     cutoff   30        33.00000   30.41842  7.82%  89.3  370s\n",
      " 203109  8154     cutoff   32        33.00000   30.54169  7.45%  89.0  376s\n",
      " 206699  6385   31.19286   31  213   33.00000   30.70446  6.96%  88.7  380s\n",
      " 210077  4378   31.68677   27  296   33.00000   30.89357  6.38%  88.4  385s\n",
      " 213991  1654   31.75672   28  253   33.00000   31.22262  5.39%  87.9  390s\n",
      "\n",
      "Cutting planes:\n",
      "  Flow cover: 2\n",
      "  Zero half: 2\n",
      "  RLT: 100\n",
      "\n",
      "Explored 216866 nodes (18925646 simplex iterations) in 391.80 seconds (288.97 work units)\n",
      "Thread count was 8 (of 8 available processors)\n",
      "\n",
      "Solution count 10: 33 34 36 ... 64\n",
      "\n",
      "Optimal solution found (tolerance 1.00e-04)\n",
      "Best objective 3.300000000000e+01, best bound 3.300000000000e+01, gap 0.0000%\n"
     ]
    }
   ],
   "source": [
    "#Create constraints\n",
    "\n",
    "#1. Each county can only be assigned to one district\n",
    "\n",
    "m.addConstrs(gp.quicksum(x[i,j] for j in range(k)) == 1 for i in G.nodes)\n",
    "\n",
    "#2. Population deviation must not exceed 1%. As such, district populations must not exceed L and U.\n",
    "\n",
    "m.addConstrs(gp.quicksum(G.nodes[i]['TOTPOP'] * x[i,j] for i in G.nodes ) >= L for j in range(k))\n",
    "m.addConstrs(gp.quicksum(G.nodes[i]['TOTPOP'] * x[i,j] for i in G.nodes ) <= U for j in range(k))\n",
    "\n",
    "#3. To ensure compactness, edge {u,v} must be cut if county u is assigned to district j but adjacent county v is not.\n",
    "\n",
    "m.addConstrs(x[u,j] - x[v,j] <= y[u,v] for u,v in G.edges for j in range(k))\n",
    "\n",
    "m.update()\n",
    "\n",
    "m.optimize()"
   ]
  },
  {
   "cell_type": "code",
   "execution_count": 8,
   "id": "73febecb",
   "metadata": {},
   "outputs": [
    {
     "name": "stdout",
     "output_type": "stream",
     "text": [
      "The number of cut edges is 33.0\n"
     ]
    }
   ],
   "source": [
    "#Compactness results\n",
    "\n",
    "print(\"The number of cut edges is\", m.objval)"
   ]
  },
  {
   "cell_type": "markdown",
   "id": "0fbed168",
   "metadata": {},
   "source": [
    "Now, we can display the lists of counties in the four districts and their total populations"
   ]
  },
  {
   "cell_type": "code",
   "execution_count": 9,
   "id": "12707dbb",
   "metadata": {
    "scrolled": true
   },
   "outputs": [
    {
     "name": "stdout",
     "output_type": "stream",
     "text": [
      "District 1 has these counties = ['Franklin', 'Crawford', 'Benton', 'Madison', 'Sebastian', 'Washington'] and this population = 751754\n",
      "\n",
      "District 2 has these counties = ['Little River', 'Ashley', 'Desha', 'Montgomery', 'Howard', 'Nevada', 'Grant', 'Dallas', 'Cleveland', 'Lafayette', 'Chicot', 'Pope', 'Bradley', 'Drew', 'Pike', 'Union', 'Hempstead', 'Polk', 'Clark', 'Logan', 'Miller', 'Arkansas', 'Johnson', 'Garland', 'Sevier', 'Jefferson', 'Lincoln', 'Scott', 'Hot Spring', 'Columbia', 'Ouachita', 'Yell', 'Calhoun', 'Phillips'] and this population = 754547\n",
      "\n",
      "District 3 has these counties = ['Faulkner', 'Conway', 'Pulaski', 'Saline', 'Lonoke', 'Perry'] and this population = 750788\n",
      "\n",
      "District 4 has these counties = ['Jackson', 'Clay', 'Baxter', 'Boone', 'St. Francis', 'Sharp', 'Greene', 'Woodruff', 'White', 'Lee', 'Crittenden', 'Marion', 'Prairie', 'Lawrence', 'Poinsett', 'Stone', 'Independence', 'Fulton', 'Carroll', 'Van Buren', 'Searcy', 'Randolph', 'Izard', 'Craighead', 'Cleburne', 'Monroe', 'Mississippi', 'Newton', 'Cross'] and this population = 754435\n",
      "\n"
     ]
    }
   ],
   "source": [
    "districts = [[i for i in G.nodes if x[i,j].x > 0.5] for j in range(k)]\n",
    "district_county_names = [[G.nodes[i]['NAME20'] for i in district] for district in districts]\n",
    "district_populations = [sum( G.nodes[i]['TOTPOP'] for i in district ) for district in districts]\n",
    "\n",
    "for j in range(k):\n",
    "    print(\"District\",j+1,\"has these counties =\",district_county_names[j],\"and this population =\",district_populations[j] )\n",
    "    print(\"\")"
   ]
  },
  {
   "cell_type": "markdown",
   "id": "bdb8f04e",
   "metadata": {},
   "source": [
    "As we can see in the results above, the largest district population was 754,547 and the lowest was 750,788, which do not exceed L (749,116) and U (756,645), so the 1% deviation rule is respected.\n",
    "\n",
    "Now, we check if the districts are all contiguous in this solution."
   ]
  },
  {
   "cell_type": "code",
   "execution_count": 11,
   "id": "379d6bc0",
   "metadata": {},
   "outputs": [
    {
     "name": "stdout",
     "output_type": "stream",
     "text": [
      "Is district 1 connected? True\n",
      "Is district 2 connected? True\n",
      "Is district 3 connected? True\n",
      "Is district 4 connected? True\n"
     ]
    }
   ],
   "source": [
    "import networkx as nx\n",
    "for j in range(k):\n",
    "    print(\"Is district\", j+1, \"connected?\", nx.is_connected(G.subgraph(j)))"
   ]
  },
  {
   "cell_type": "markdown",
   "id": "b44cc413",
   "metadata": {},
   "source": [
    "Thankfully, our districts are all already contiguous, so there is no need to do extra work to implement contiguity constraints!\n",
    "\n",
    "Finally, we can use geopandas to visualize our new redistricting plan in a map!"
   ]
  },
  {
   "cell_type": "code",
   "execution_count": 12,
   "id": "014c7e64",
   "metadata": {},
   "outputs": [],
   "source": [
    "import geopandas as gpd\n",
    "\n",
    "filepath2 = 'C:/Users/franc/OneDrive/Desktop/Work/Fall 2023/Deterministic Operations Research/Project/Shapefile/AR_counties.shp'\n",
    "mapdata = gpd.read_file(filepath2)"
   ]
  },
  {
   "cell_type": "code",
   "execution_count": 13,
   "id": "c5cbf50d",
   "metadata": {},
   "outputs": [
    {
     "data": {
      "image/png": "[encoded data removed]",
      "text/plain": [
       "<Figure size 640x480 with 1 Axes>"
      ]
     },
     "metadata": {},
     "output_type": "display_data"
    }
   ],
   "source": [
    "#County assignment to corresponding district\n",
    "assign = [-1 for i in G.nodes]\n",
    "label = {i : j for i in G.nodes for j in range(k) if x[i,j].x > 0.5}\n",
    "\n",
    "#Mapping the column assignment\n",
    "node_assignment = {G.nodes[i]['GEOID20'] : i for i in G.nodes}\n",
    "\n",
    "#Picking a position u in the dataframe\n",
    "for u in range(G.number_of_nodes()):\n",
    "    \n",
    "    geoid = mapdata['GEOID20'][u]\n",
    "    \n",
    "    #What node in G is this assigned to?\n",
    "    i = node_assignment[geoid]\n",
    "    \n",
    "    #Give the same district number to position u that the corresponding county i has.\n",
    "    assign[u] = label[i]\n",
    "    \n",
    "#Add the assignments to a column of our dataframe and then map it\n",
    "mapdata['assignment'] = assign\n",
    "\n",
    "my_map = mapdata.plot(column='assignment').get_figure()"
   ]
  },
  {
   "cell_type": "markdown",
   "id": "e502fb40",
   "metadata": {},
   "source": [
    "This concludes our Arkansas redistricting for the 2020 census project!\n",
    "\n",
    "Shapefile data for Arkansas counties were obtained from Eugene Lykhovyd's index of files on US counties.\n",
    "\n",
    "JSON file data for Arkansas was obtained from logandavis2518's IEM40132020RedistrictingProject repository on GitHub.\n",
    "\n",
    "Special thanks and reference to AustinLBuchanan's Districting-Examples-2020 on Github. Code originating from there was used as a reference especially for the constraints and visual mapping sections of the code. The idea to utilize a JSON file for the primary data source and to use NetworkX to read that data also originated from this repository. "
   ]
  }
 ],
 "metadata": {
  "kernelspec": {
   "display_name": "Python 3 (ipykernel)",
   "language": "python",
   "name": "python3"
  },
  "language_info": {
   "codemirror_mode": {
    "name": "ipython",
    "version": 3
   },
   "file_extension": ".py",
   "mimetype": "text/x-python",
   "name": "python",
   "nbconvert_exporter": "python",
   "pygments_lexer": "ipython3",
   "version": "3.11.4"
  }
 },
 "nbformat": 4,
 "nbformat_minor": 5
}
